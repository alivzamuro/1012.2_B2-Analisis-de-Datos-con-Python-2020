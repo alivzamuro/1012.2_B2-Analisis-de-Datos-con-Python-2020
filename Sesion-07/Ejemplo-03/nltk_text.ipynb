{
  "cells": [
    {
      "cell_type": "markdown",
      "metadata": {
        "id": "view-in-github",
        "colab_type": "text"
      },
      "source": [
        "<a href=\"https://colab.research.google.com/github/caballeroarturo/B2-Analisis-de-Datos-con-Python-2020/blob/master/Sesion-07/Ejemplo-03/nltk_text.ipynb\" target=\"_parent\"><img src=\"https://colab.research.google.com/assets/colab-badge.svg\" alt=\"Open In Colab\"/></a>"
      ]
    },
    {
      "cell_type": "markdown",
      "metadata": {
        "id": "CIr3EThNmCQX"
      },
      "source": [
        "## Ejemplo 3: Nltk Text\n",
        "\n",
        "### 1. Objetivos:\n",
        "    - Aprender a usar el objeto Text de la librería Nltk\n",
        "\n",
        "---\n",
        "    \n",
        "### 2. Desarrollo:"
      ]
    },
    {
      "cell_type": "markdown",
      "metadata": {
        "id": "1w2YbjR-mCQZ"
      },
      "source": [
        "Vamos a utilizar la librería Nltk para explorar algunas técnicas básicas de procesamiento de lenguaje natural. Muchos de estos procedimientos normalmente sirven para preparar nuestros datos para entrenar un modelo o para realizar una visualización."
      ]
    },
    {
      "cell_type": "code",
      "execution_count": 16,
      "metadata": {
        "id": "opQxUIZdmCQZ"
      },
      "outputs": [],
      "source": [
        "import pandas as pd\n",
        "import nltk\n",
        "import seaborn as sns\n",
        "import matplotlib.pyplot as plt\n",
        "import numpy as np"
      ]
    },
    {
      "cell_type": "code",
      "execution_count": 17,
      "metadata": {
        "id": "_rZ-oCnBmCQa",
        "outputId": "b212dd45-38f3-4e26-c7a5-cc1d7d5181a6",
        "colab": {
          "base_uri": "https://localhost:8080/",
          "height": 538
        }
      },
      "outputs": [
        {
          "output_type": "execute_result",
          "data": {
            "text/plain": [
              "                                  amazon_product_url  \\\n",
              "0  http://www.amazon.com/The-Host-Novel-Stephenie...   \n",
              "1  http://www.amazon.com/Love-Youre-With-Emily-Gi...   \n",
              "2  http://www.amazon.com/The-Front-Garano-Patrici...   \n",
              "3  http://www.amazon.com/Snuff-Chuck-Palahniuk/dp...   \n",
              "4  http://www.amazon.com/Sundays-at-Tiffanys-Jame...   \n",
              "\n",
              "                                     author  \\\n",
              "0                           Stephenie Meyer   \n",
              "1                              Emily Giffin   \n",
              "2                         Patricia Cornwell   \n",
              "3                           Chuck Palahniuk   \n",
              "4  James Patterson and Gabrielle Charbonnet   \n",
              "\n",
              "                                         description      publisher  \\\n",
              "0  Aliens have taken control of the minds and bod...  Little, Brown   \n",
              "1  A woman's happy marriage is shaken when she en...   St. Martin's   \n",
              "2  A Massachusetts state investigator and his tea...         Putnam   \n",
              "3  An aging porn queens aims to cap her career by...      Doubleday   \n",
              "4                   A woman finds an unexpected love  Little, Brown   \n",
              "\n",
              "                      title                       oid  \\\n",
              "0                  THE HOST  5b4aa4ead3089013507db18c   \n",
              "1  LOVE THE ONE YOU'RE WITH  5b4aa4ead3089013507db18d   \n",
              "2                 THE FRONT  5b4aa4ead3089013507db18e   \n",
              "3                     SNUFF  5b4aa4ead3089013507db18f   \n",
              "4      SUNDAYS AT TIFFANY’S  5b4aa4ead3089013507db190   \n",
              "\n",
              "   bestsellers_date.numberLong  published_date.numberLong  rank.numberInt  \\\n",
              "0                1211587200000              1212883200000               2   \n",
              "1                1211587200000              1212883200000               3   \n",
              "2                1211587200000              1212883200000               4   \n",
              "3                1211587200000              1212883200000               5   \n",
              "4                1211587200000              1212883200000               6   \n",
              "\n",
              "   rank_last_week.numberInt  weeks_on_list.numberInt  price.numberDouble  \n",
              "0                         1                        3               25.99  \n",
              "1                         2                        2               24.95  \n",
              "2                         0                        1               22.95  \n",
              "3                         0                        1               24.95  \n",
              "4                         3                        4               24.99  "
            ],
            "text/html": [
              "\n",
              "  <div id=\"df-0f1dd7bf-f3c3-4790-b298-4ae752976f56\" class=\"colab-df-container\">\n",
              "    <div>\n",
              "<style scoped>\n",
              "    .dataframe tbody tr th:only-of-type {\n",
              "        vertical-align: middle;\n",
              "    }\n",
              "\n",
              "    .dataframe tbody tr th {\n",
              "        vertical-align: top;\n",
              "    }\n",
              "\n",
              "    .dataframe thead th {\n",
              "        text-align: right;\n",
              "    }\n",
              "</style>\n",
              "<table border=\"1\" class=\"dataframe\">\n",
              "  <thead>\n",
              "    <tr style=\"text-align: right;\">\n",
              "      <th></th>\n",
              "      <th>amazon_product_url</th>\n",
              "      <th>author</th>\n",
              "      <th>description</th>\n",
              "      <th>publisher</th>\n",
              "      <th>title</th>\n",
              "      <th>oid</th>\n",
              "      <th>bestsellers_date.numberLong</th>\n",
              "      <th>published_date.numberLong</th>\n",
              "      <th>rank.numberInt</th>\n",
              "      <th>rank_last_week.numberInt</th>\n",
              "      <th>weeks_on_list.numberInt</th>\n",
              "      <th>price.numberDouble</th>\n",
              "    </tr>\n",
              "  </thead>\n",
              "  <tbody>\n",
              "    <tr>\n",
              "      <th>0</th>\n",
              "      <td>http://www.amazon.com/The-Host-Novel-Stephenie...</td>\n",
              "      <td>Stephenie Meyer</td>\n",
              "      <td>Aliens have taken control of the minds and bod...</td>\n",
              "      <td>Little, Brown</td>\n",
              "      <td>THE HOST</td>\n",
              "      <td>5b4aa4ead3089013507db18c</td>\n",
              "      <td>1211587200000</td>\n",
              "      <td>1212883200000</td>\n",
              "      <td>2</td>\n",
              "      <td>1</td>\n",
              "      <td>3</td>\n",
              "      <td>25.99</td>\n",
              "    </tr>\n",
              "    <tr>\n",
              "      <th>1</th>\n",
              "      <td>http://www.amazon.com/Love-Youre-With-Emily-Gi...</td>\n",
              "      <td>Emily Giffin</td>\n",
              "      <td>A woman's happy marriage is shaken when she en...</td>\n",
              "      <td>St. Martin's</td>\n",
              "      <td>LOVE THE ONE YOU'RE WITH</td>\n",
              "      <td>5b4aa4ead3089013507db18d</td>\n",
              "      <td>1211587200000</td>\n",
              "      <td>1212883200000</td>\n",
              "      <td>3</td>\n",
              "      <td>2</td>\n",
              "      <td>2</td>\n",
              "      <td>24.95</td>\n",
              "    </tr>\n",
              "    <tr>\n",
              "      <th>2</th>\n",
              "      <td>http://www.amazon.com/The-Front-Garano-Patrici...</td>\n",
              "      <td>Patricia Cornwell</td>\n",
              "      <td>A Massachusetts state investigator and his tea...</td>\n",
              "      <td>Putnam</td>\n",
              "      <td>THE FRONT</td>\n",
              "      <td>5b4aa4ead3089013507db18e</td>\n",
              "      <td>1211587200000</td>\n",
              "      <td>1212883200000</td>\n",
              "      <td>4</td>\n",
              "      <td>0</td>\n",
              "      <td>1</td>\n",
              "      <td>22.95</td>\n",
              "    </tr>\n",
              "    <tr>\n",
              "      <th>3</th>\n",
              "      <td>http://www.amazon.com/Snuff-Chuck-Palahniuk/dp...</td>\n",
              "      <td>Chuck Palahniuk</td>\n",
              "      <td>An aging porn queens aims to cap her career by...</td>\n",
              "      <td>Doubleday</td>\n",
              "      <td>SNUFF</td>\n",
              "      <td>5b4aa4ead3089013507db18f</td>\n",
              "      <td>1211587200000</td>\n",
              "      <td>1212883200000</td>\n",
              "      <td>5</td>\n",
              "      <td>0</td>\n",
              "      <td>1</td>\n",
              "      <td>24.95</td>\n",
              "    </tr>\n",
              "    <tr>\n",
              "      <th>4</th>\n",
              "      <td>http://www.amazon.com/Sundays-at-Tiffanys-Jame...</td>\n",
              "      <td>James Patterson and Gabrielle Charbonnet</td>\n",
              "      <td>A woman finds an unexpected love</td>\n",
              "      <td>Little, Brown</td>\n",
              "      <td>SUNDAYS AT TIFFANY’S</td>\n",
              "      <td>5b4aa4ead3089013507db190</td>\n",
              "      <td>1211587200000</td>\n",
              "      <td>1212883200000</td>\n",
              "      <td>6</td>\n",
              "      <td>3</td>\n",
              "      <td>4</td>\n",
              "      <td>24.99</td>\n",
              "    </tr>\n",
              "  </tbody>\n",
              "</table>\n",
              "</div>\n",
              "    <div class=\"colab-df-buttons\">\n",
              "\n",
              "  <div class=\"colab-df-container\">\n",
              "    <button class=\"colab-df-convert\" onclick=\"convertToInteractive('df-0f1dd7bf-f3c3-4790-b298-4ae752976f56')\"\n",
              "            title=\"Convert this dataframe to an interactive table.\"\n",
              "            style=\"display:none;\">\n",
              "\n",
              "  <svg xmlns=\"http://www.w3.org/2000/svg\" height=\"24px\" viewBox=\"0 -960 960 960\">\n",
              "    <path d=\"M120-120v-720h720v720H120Zm60-500h600v-160H180v160Zm220 220h160v-160H400v160Zm0 220h160v-160H400v160ZM180-400h160v-160H180v160Zm440 0h160v-160H620v160ZM180-180h160v-160H180v160Zm440 0h160v-160H620v160Z\"/>\n",
              "  </svg>\n",
              "    </button>\n",
              "\n",
              "  <style>\n",
              "    .colab-df-container {\n",
              "      display:flex;\n",
              "      gap: 12px;\n",
              "    }\n",
              "\n",
              "    .colab-df-convert {\n",
              "      background-color: #E8F0FE;\n",
              "      border: none;\n",
              "      border-radius: 50%;\n",
              "      cursor: pointer;\n",
              "      display: none;\n",
              "      fill: #1967D2;\n",
              "      height: 32px;\n",
              "      padding: 0 0 0 0;\n",
              "      width: 32px;\n",
              "    }\n",
              "\n",
              "    .colab-df-convert:hover {\n",
              "      background-color: #E2EBFA;\n",
              "      box-shadow: 0px 1px 2px rgba(60, 64, 67, 0.3), 0px 1px 3px 1px rgba(60, 64, 67, 0.15);\n",
              "      fill: #174EA6;\n",
              "    }\n",
              "\n",
              "    .colab-df-buttons div {\n",
              "      margin-bottom: 4px;\n",
              "    }\n",
              "\n",
              "    [theme=dark] .colab-df-convert {\n",
              "      background-color: #3B4455;\n",
              "      fill: #D2E3FC;\n",
              "    }\n",
              "\n",
              "    [theme=dark] .colab-df-convert:hover {\n",
              "      background-color: #434B5C;\n",
              "      box-shadow: 0px 1px 3px 1px rgba(0, 0, 0, 0.15);\n",
              "      filter: drop-shadow(0px 1px 2px rgba(0, 0, 0, 0.3));\n",
              "      fill: #FFFFFF;\n",
              "    }\n",
              "  </style>\n",
              "\n",
              "    <script>\n",
              "      const buttonEl =\n",
              "        document.querySelector('#df-0f1dd7bf-f3c3-4790-b298-4ae752976f56 button.colab-df-convert');\n",
              "      buttonEl.style.display =\n",
              "        google.colab.kernel.accessAllowed ? 'block' : 'none';\n",
              "\n",
              "      async function convertToInteractive(key) {\n",
              "        const element = document.querySelector('#df-0f1dd7bf-f3c3-4790-b298-4ae752976f56');\n",
              "        const dataTable =\n",
              "          await google.colab.kernel.invokeFunction('convertToInteractive',\n",
              "                                                    [key], {});\n",
              "        if (!dataTable) return;\n",
              "\n",
              "        const docLinkHtml = 'Like what you see? Visit the ' +\n",
              "          '<a target=\"_blank\" href=https://colab.research.google.com/notebooks/data_table.ipynb>data table notebook</a>'\n",
              "          + ' to learn more about interactive tables.';\n",
              "        element.innerHTML = '';\n",
              "        dataTable['output_type'] = 'display_data';\n",
              "        await google.colab.output.renderOutput(dataTable, element);\n",
              "        const docLink = document.createElement('div');\n",
              "        docLink.innerHTML = docLinkHtml;\n",
              "        element.appendChild(docLink);\n",
              "      }\n",
              "    </script>\n",
              "  </div>\n",
              "\n",
              "\n",
              "<div id=\"df-c444c844-3c22-4975-8e33-83d332b01db5\">\n",
              "  <button class=\"colab-df-quickchart\" onclick=\"quickchart('df-c444c844-3c22-4975-8e33-83d332b01db5')\"\n",
              "            title=\"Suggest charts\"\n",
              "            style=\"display:none;\">\n",
              "\n",
              "<svg xmlns=\"http://www.w3.org/2000/svg\" height=\"24px\"viewBox=\"0 0 24 24\"\n",
              "     width=\"24px\">\n",
              "    <g>\n",
              "        <path d=\"M19 3H5c-1.1 0-2 .9-2 2v14c0 1.1.9 2 2 2h14c1.1 0 2-.9 2-2V5c0-1.1-.9-2-2-2zM9 17H7v-7h2v7zm4 0h-2V7h2v10zm4 0h-2v-4h2v4z\"/>\n",
              "    </g>\n",
              "</svg>\n",
              "  </button>\n",
              "\n",
              "<style>\n",
              "  .colab-df-quickchart {\n",
              "      --bg-color: #E8F0FE;\n",
              "      --fill-color: #1967D2;\n",
              "      --hover-bg-color: #E2EBFA;\n",
              "      --hover-fill-color: #174EA6;\n",
              "      --disabled-fill-color: #AAA;\n",
              "      --disabled-bg-color: #DDD;\n",
              "  }\n",
              "\n",
              "  [theme=dark] .colab-df-quickchart {\n",
              "      --bg-color: #3B4455;\n",
              "      --fill-color: #D2E3FC;\n",
              "      --hover-bg-color: #434B5C;\n",
              "      --hover-fill-color: #FFFFFF;\n",
              "      --disabled-bg-color: #3B4455;\n",
              "      --disabled-fill-color: #666;\n",
              "  }\n",
              "\n",
              "  .colab-df-quickchart {\n",
              "    background-color: var(--bg-color);\n",
              "    border: none;\n",
              "    border-radius: 50%;\n",
              "    cursor: pointer;\n",
              "    display: none;\n",
              "    fill: var(--fill-color);\n",
              "    height: 32px;\n",
              "    padding: 0;\n",
              "    width: 32px;\n",
              "  }\n",
              "\n",
              "  .colab-df-quickchart:hover {\n",
              "    background-color: var(--hover-bg-color);\n",
              "    box-shadow: 0 1px 2px rgba(60, 64, 67, 0.3), 0 1px 3px 1px rgba(60, 64, 67, 0.15);\n",
              "    fill: var(--button-hover-fill-color);\n",
              "  }\n",
              "\n",
              "  .colab-df-quickchart-complete:disabled,\n",
              "  .colab-df-quickchart-complete:disabled:hover {\n",
              "    background-color: var(--disabled-bg-color);\n",
              "    fill: var(--disabled-fill-color);\n",
              "    box-shadow: none;\n",
              "  }\n",
              "\n",
              "  .colab-df-spinner {\n",
              "    border: 2px solid var(--fill-color);\n",
              "    border-color: transparent;\n",
              "    border-bottom-color: var(--fill-color);\n",
              "    animation:\n",
              "      spin 1s steps(1) infinite;\n",
              "  }\n",
              "\n",
              "  @keyframes spin {\n",
              "    0% {\n",
              "      border-color: transparent;\n",
              "      border-bottom-color: var(--fill-color);\n",
              "      border-left-color: var(--fill-color);\n",
              "    }\n",
              "    20% {\n",
              "      border-color: transparent;\n",
              "      border-left-color: var(--fill-color);\n",
              "      border-top-color: var(--fill-color);\n",
              "    }\n",
              "    30% {\n",
              "      border-color: transparent;\n",
              "      border-left-color: var(--fill-color);\n",
              "      border-top-color: var(--fill-color);\n",
              "      border-right-color: var(--fill-color);\n",
              "    }\n",
              "    40% {\n",
              "      border-color: transparent;\n",
              "      border-right-color: var(--fill-color);\n",
              "      border-top-color: var(--fill-color);\n",
              "    }\n",
              "    60% {\n",
              "      border-color: transparent;\n",
              "      border-right-color: var(--fill-color);\n",
              "    }\n",
              "    80% {\n",
              "      border-color: transparent;\n",
              "      border-right-color: var(--fill-color);\n",
              "      border-bottom-color: var(--fill-color);\n",
              "    }\n",
              "    90% {\n",
              "      border-color: transparent;\n",
              "      border-bottom-color: var(--fill-color);\n",
              "    }\n",
              "  }\n",
              "</style>\n",
              "\n",
              "  <script>\n",
              "    async function quickchart(key) {\n",
              "      const quickchartButtonEl =\n",
              "        document.querySelector('#' + key + ' button');\n",
              "      quickchartButtonEl.disabled = true;  // To prevent multiple clicks.\n",
              "      quickchartButtonEl.classList.add('colab-df-spinner');\n",
              "      try {\n",
              "        const charts = await google.colab.kernel.invokeFunction(\n",
              "            'suggestCharts', [key], {});\n",
              "      } catch (error) {\n",
              "        console.error('Error during call to suggestCharts:', error);\n",
              "      }\n",
              "      quickchartButtonEl.classList.remove('colab-df-spinner');\n",
              "      quickchartButtonEl.classList.add('colab-df-quickchart-complete');\n",
              "    }\n",
              "    (() => {\n",
              "      let quickchartButtonEl =\n",
              "        document.querySelector('#df-c444c844-3c22-4975-8e33-83d332b01db5 button');\n",
              "      quickchartButtonEl.style.display =\n",
              "        google.colab.kernel.accessAllowed ? 'block' : 'none';\n",
              "    })();\n",
              "  </script>\n",
              "</div>\n",
              "    </div>\n",
              "  </div>\n"
            ]
          },
          "metadata": {},
          "execution_count": 17
        }
      ],
      "source": [
        "path1 = \"https://raw.githubusercontent.com/caballeroarturo/B2-Analisis-de-Datos-con-Python-2020/master/\"\n",
        "df = pd.read_json(path1 +'Datasets/new_york_times_bestsellers-clean.json')\n",
        "\n",
        "df.head()"
      ]
    },
    {
      "cell_type": "code",
      "execution_count": 18,
      "metadata": {
        "id": "StVhyXKvmCQb",
        "outputId": "f59f22e5-523f-4cd6-8775-23748693bcb9",
        "colab": {
          "base_uri": "https://localhost:8080/"
        }
      },
      "outputs": [
        {
          "output_type": "execute_result",
          "data": {
            "text/plain": [
              "title\n",
              "10TH ANNIVERSARY            Detective Lindsay Boxer and the Women’s Murder...\n",
              "11TH HOUR                   Detective Lindsay Boxer and the Women’s Murder...\n",
              "1225 CHRISTMAS TREE LANE    Puppies and an ex-husband loom large in the la...\n",
              "1356                        In the fourth book of the Grail Quest series, ...\n",
              "1Q84                        In 1980s Tokyo, a woman who punishes perpetrat...\n",
              "                                                  ...                        \n",
              "Z                           A novel based on the lives of Zelda and F. Sco...\n",
              "ZERO DAY                       A military investigator uncovers a conspiracy.\n",
              "ZERO HISTORY                Several characters from “Spook Country” return...\n",
              "ZONE ONE                      Fighting zombies in post-apocalyptic Manhattan.\n",
              "ZOO                         A young biologist warns world leaders about th...\n",
              "Name: description, Length: 754, dtype: object"
            ]
          },
          "metadata": {},
          "execution_count": 18
        }
      ],
      "source": [
        "grouped_by_title = df.groupby('title')['description'].max()\n",
        "\n",
        "grouped_by_title"
      ]
    },
    {
      "cell_type": "markdown",
      "metadata": {
        "id": "2C7Ip7zAmCQb"
      },
      "source": [
        "Primero hay que limpiar un poco nuestros textos:"
      ]
    },
    {
      "cell_type": "code",
      "execution_count": 19,
      "metadata": {
        "id": "o5ucv5t8mCQb",
        "outputId": "39634f12-474e-4fcf-81b8-2ce509388ff0",
        "colab": {
          "base_uri": "https://localhost:8080/"
        }
      },
      "outputs": [
        {
          "output_type": "execute_result",
          "data": {
            "text/plain": [
              "title\n",
              "10TH ANNIVERSARY            detective lindsay boxer and the womens murder ...\n",
              "11TH HOUR                   detective lindsay boxer and the womens murder ...\n",
              "1225 CHRISTMAS TREE LANE    puppies and an exhusband loom large in the las...\n",
              "1356                        in the fourth book of the grail quest series t...\n",
              "1Q84                        in s tokyo a woman who punishes perpetrators o...\n",
              "                                                  ...                        \n",
              "Z                           a novel based on the lives of zelda and f scot...\n",
              "ZERO DAY                        a military investigator uncovers a conspiracy\n",
              "ZERO HISTORY                several characters from spook country return t...\n",
              "ZONE ONE                        fighting zombies in postapocalyptic manhattan\n",
              "ZOO                         a young biologist warns world leaders about th...\n",
              "Name: description, Length: 754, dtype: object"
            ]
          },
          "metadata": {},
          "execution_count": 19
        }
      ],
      "source": [
        "# cambia minusculas\n",
        "grouped_by_title = grouped_by_title.str.lower()\n",
        "# elimina espacios en blanco al inicio y al final: también se puede usar str.lstrip() o str.rstrip()\n",
        "grouped_by_title = grouped_by_title.str.strip()\n",
        "# cambia todos los caracterres que no son letras o espacios en blanco a vacio\n",
        "grouped_by_title = grouped_by_title.str.replace('[^\\w\\s]', '', regex = True)\n",
        "# numeros enteros sin decimales, si se quisiera quitar todos los números debería ser '\\d+'\n",
        "grouped_by_title = grouped_by_title.str.replace('\\d', '', regex = True)\n",
        "#saltos de linea\n",
        "grouped_by_title = grouped_by_title.str.replace('\\\\n', '', regex = True)\n",
        "# Nas\n",
        "grouped_by_title = grouped_by_title.dropna()\n",
        "\n",
        "grouped_by_title"
      ]
    },
    {
      "cell_type": "markdown",
      "metadata": {
        "id": "F55R4bKNmCQc"
      },
      "source": [
        "Ahora, vamos a construir un objeto Text con nuestros datos. Primero que nada necesitamos descargar algunas librerías que requiere `nltk` para funcionar. Ve a tu terminal, abre python, importa nltk y usa el siguiente comando:\n",
        "\n",
        "`nltk.download('punkt')`\n",
        "\n",
        "Ahora sí, estamos listos:"
      ]
    },
    {
      "cell_type": "code",
      "source": [
        "nltk.download('punkt')"
      ],
      "metadata": {
        "id": "VIWMCqbYpP0G",
        "outputId": "8b9f87d3-4b11-40ad-da54-3b464806033d",
        "colab": {
          "base_uri": "https://localhost:8080/"
        }
      },
      "execution_count": 21,
      "outputs": [
        {
          "output_type": "stream",
          "name": "stderr",
          "text": [
            "[nltk_data] Downloading package punkt to /root/nltk_data...\n",
            "[nltk_data]   Unzipping tokenizers/punkt.zip.\n"
          ]
        },
        {
          "output_type": "execute_result",
          "data": {
            "text/plain": [
              "True"
            ]
          },
          "metadata": {},
          "execution_count": 21
        }
      ]
    },
    {
      "cell_type": "code",
      "execution_count": 22,
      "metadata": {
        "id": "RwQlUjvdmCQc"
      },
      "outputs": [],
      "source": [
        "# Separamos cada oración en palabras\n",
        "\n",
        "tokenized = grouped_by_title.apply(nltk.word_tokenize)"
      ]
    },
    {
      "cell_type": "code",
      "execution_count": 23,
      "metadata": {
        "id": "_Y5NnkAYmCQc",
        "outputId": "6842da3d-7265-4f51-9792-1ad671b1a0c0",
        "colab": {
          "base_uri": "https://localhost:8080/"
        }
      },
      "outputs": [
        {
          "output_type": "execute_result",
          "data": {
            "text/plain": [
              "title\n",
              "10TH ANNIVERSARY            [detective, lindsay, boxer, and, the, womens, ...\n",
              "11TH HOUR                   [detective, lindsay, boxer, and, the, womens, ...\n",
              "1225 CHRISTMAS TREE LANE    [puppies, and, an, exhusband, loom, large, in,...\n",
              "1356                        [in, the, fourth, book, of, the, grail, quest,...\n",
              "1Q84                        [in, s, tokyo, a, woman, who, punishes, perpet...\n",
              "                                                  ...                        \n",
              "Z                           [a, novel, based, on, the, lives, of, zelda, a...\n",
              "ZERO DAY                    [a, military, investigator, uncovers, a, consp...\n",
              "ZERO HISTORY                [several, characters, from, spook, country, re...\n",
              "ZONE ONE                    [fighting, zombies, in, postapocalyptic, manha...\n",
              "ZOO                         [a, young, biologist, warns, world, leaders, a...\n",
              "Name: description, Length: 754, dtype: object"
            ]
          },
          "metadata": {},
          "execution_count": 23
        }
      ],
      "source": [
        "tokenized"
      ]
    },
    {
      "cell_type": "code",
      "execution_count": 24,
      "metadata": {
        "id": "YhX9NmPGmCQd",
        "outputId": "1024c3e4-d67b-46eb-83d5-6ad24ad3a0b7",
        "colab": {
          "base_uri": "https://localhost:8080/"
        }
      },
      "outputs": [
        {
          "output_type": "execute_result",
          "data": {
            "text/plain": [
              "<Text: detective lindsay boxer and the womens murder club...>"
            ]
          },
          "metadata": {},
          "execution_count": 24
        }
      ],
      "source": [
        "# Sumamos todas las listas para obtener una lista con todas las palabras en nuestro conjunto de datos\n",
        "# Creamos un objeto Text\n",
        "\n",
        "all_words = tokenized.sum()\n",
        "text = nltk.Text(all_words)\n",
        "\n",
        "text"
      ]
    },
    {
      "cell_type": "code",
      "execution_count": 25,
      "metadata": {
        "id": "KHX5FFDgmCQd",
        "outputId": "cfa51e95-e3b8-4efa-f9ce-19059fa01c2c",
        "colab": {
          "base_uri": "https://localhost:8080/"
        }
      },
      "outputs": [
        {
          "output_type": "stream",
          "name": "stdout",
          "text": [
            "Displaying 20 of 60 matches:\n",
            " the battle of poitiers in s tokyo a woman who punishes perpetrators of domesti\n",
            "of mishandling an autopsy a pregnant woman shows up in cedar cove on christmas \n",
            "e nothing is as it seems a middleage woman takes a crosscountry road trip with \n",
            "ment a young beautiful and ambitious woman ruthlessly ascends the heights of th\n",
            "ring of humans and heavenly beings a woman in her late s marries the man of her\n",
            "e ichidian universe a smuggler and a woman warrior must fight together to survi\n",
            "paloosa trilogy two lawmen protect a woman one of them loves in frenchs fourth \n",
            "e an arcane society novel a southern woman is forever changed by the betrayals \n",
            "illipss earlier novels reappear as a woman persuades a friend to call off her w\n",
            "plot to kill thousands of citizens a woman asks the boston detective dd warren \n",
            "arker in pursuing a dangerous case a woman joins with her estranged former step\n",
            "texas fbi agent falls in love with a woman with a past lara callandine an exper\n",
            " wealthy connecticut town a divorced woman takes a job as an assistant to a fam\n",
            "eings twentytwo years after a dublin woman stood up her intended groom her aban\n",
            "ikki heat investigates the case of a woman whose body is found in a freezer the\n",
            " crime book of the forerunner saga a woman whose daughter has a dangerous birth\n",
            "the conclusion to her mothers hope a woman haunts the flat shes left to her twi\n",
            "ees with her master to new orleans a woman haunted by the disappearance of her \n",
            " high school principal is murdered a woman looking for a change begins a relati\n",
            "from her exploitive criminal uncle a woman is challenged when her musician husb\n"
          ]
        }
      ],
      "source": [
        "text.concordance('woman', lines=20)"
      ]
    },
    {
      "cell_type": "code",
      "execution_count": 26,
      "metadata": {
        "id": "fzhObP_ymCQe",
        "outputId": "7e365e23-532a-49ed-e0c8-e5aa1b4d00fc",
        "colab": {
          "base_uri": "https://localhost:8080/"
        }
      },
      "outputs": [
        {
          "output_type": "stream",
          "name": "stdout",
          "text": [
            "man widow killer series war case doctor yearold friend boy target\n",
            "yacht murder nanny group secret witch massacre mystery family\n"
          ]
        }
      ],
      "source": [
        "# similar te regresa las palabras que aparecen en contextos similares al argumento\n",
        "\n",
        "text.similar('woman')"
      ]
    },
    {
      "cell_type": "code",
      "execution_count": 27,
      "metadata": {
        "id": "nupJ0lD2mCQe",
        "outputId": "7d4255d7-65da-4ae3-8c9a-46a39fdead7d",
        "colab": {
          "base_uri": "https://localhost:8080/"
        }
      },
      "outputs": [
        {
          "output_type": "stream",
          "name": "stdout",
          "text": [
            "murder war love crimes killer battle resent administration eve life\n",
            "recovery night state summer eyes wheel mother daughter author secrets\n"
          ]
        }
      ],
      "source": [
        "text.similar('women')"
      ]
    },
    {
      "cell_type": "code",
      "execution_count": 28,
      "metadata": {
        "id": "qOktDL95mCQe",
        "outputId": "2b5de8ce-d381-4428-c8cf-59419737a21e",
        "colab": {
          "base_uri": "https://localhost:8080/"
        }
      },
      "outputs": [
        {
          "output_type": "stream",
          "name": "stdout",
          "text": [
            "Displaying 20 of 35 matches:\n",
            "ngs a woman in her late s marries the man of her dreams and reaches out to his \n",
            "tar hides his male lover a former hit man for the mob who has become a doctor i\n",
            "y the betrayals of her mother and the man she loves intrigue on the planet safe\n",
            "a in two agents are tracking the same man a human trafficker who is now dealing\n",
            "lorida for a missing girl and the con man who seduced her a runaway girl and th\n",
            "s deployed to iraq a distraught young man discovers that he has grown horns a s\n",
            " empire of charis fights to survive a man who kidnapped a yearold girl contacts\n",
            "and cia stand in his way when a young man finds a bag of diamonds he gets the a\n",
            "stigator maisie dobbs helps an indian man whose sisters murder has been ignored\n",
            "al attacks a woman her daughter and a man accused of murder evade the authoriti\n",
            "ooper becomes involved when a wealthy man assaults a maid in a manhattan hotel \n",
            "d as christmas nears a terminally ill man is preparing his family for his death\n",
            "n involved before the fbi can after a man stumbles in front of the reporter mel\n",
            "er the woman he loved married another man jake fisher discovers that neither sh\n",
            "cheats on his wives sends an innocent man to jail and tries to cash in on anoth\n",
            "ce brennan investigates the case of a man who seems to have died twice jesse st\n",
            "tor eve duncan undertakes a job for a man with dark secrets the first book in a\n",
            "murder at a remote abbey a middleaged man mourning his wifes death is comforted\n",
            "ter their high school romance ended a man and woman who have gone their separat\n",
            "s to see whether they can find love a man changes his life after he reads his o\n"
          ]
        }
      ],
      "source": [
        "text.concordance('man', lines=20)"
      ]
    },
    {
      "cell_type": "code",
      "execution_count": 29,
      "metadata": {
        "id": "YXi-ButCmCQe",
        "outputId": "35c382f6-e784-48fe-c60c-b13e96473f37",
        "colab": {
          "base_uri": "https://localhost:8080/"
        }
      },
      "outputs": [
        {
          "output_type": "stream",
          "name": "stdout",
          "text": [
            "killer woman widow murder war mystery case yearold vampire\n",
            "disappearance target murderer yacht priest detective baby series\n",
            "battle administration eve\n"
          ]
        }
      ],
      "source": [
        "text.similar('man')"
      ]
    },
    {
      "cell_type": "code",
      "execution_count": 30,
      "metadata": {
        "id": "oZV5TT6RmCQf",
        "outputId": "c273bc04-5219-4ac6-d72b-73dc90cb933c",
        "colab": {
          "base_uri": "https://localhost:8080/"
        }
      },
      "outputs": [
        {
          "output_type": "stream",
          "name": "stdout",
          "text": [
            "s french president west truth culprit males governor\n"
          ]
        }
      ],
      "source": [
        "text.similar('men')"
      ]
    },
    {
      "cell_type": "code",
      "execution_count": 31,
      "metadata": {
        "id": "L3M3hor0mCQf",
        "outputId": "1061033b-4b2e-41aa-b543-aa61ce8a532f",
        "colab": {
          "base_uri": "https://localhost:8080/"
        }
      },
      "outputs": [
        {
          "output_type": "stream",
          "name": "stdout",
          "text": [
            "a_in a_with a_who\n"
          ]
        }
      ],
      "source": [
        "# common_contexts regresa los contextos que comparten dos o más palabras\n",
        "\n",
        "text.common_contexts(['woman', 'man'])"
      ]
    },
    {
      "cell_type": "code",
      "execution_count": 32,
      "metadata": {
        "id": "5Is8mcnbmCQf",
        "outputId": "2d44c078-c660-4811-cfd9-0a16c0f840fd",
        "colab": {
          "base_uri": "https://localhost:8080/"
        }
      },
      "outputs": [
        {
          "output_type": "execute_result",
          "data": {
            "text/plain": [
              "12569"
            ]
          },
          "metadata": {},
          "execution_count": 32
        }
      ],
      "source": [
        "# Total de palabras\n",
        "\n",
        "len(text)"
      ]
    },
    {
      "cell_type": "code",
      "execution_count": 33,
      "metadata": {
        "id": "gimCbq-BmCQf",
        "outputId": "278daaf8-93a7-48fd-f311-5b1dcc5f33ac",
        "colab": {
          "base_uri": "https://localhost:8080/"
        }
      },
      "outputs": [
        {
          "output_type": "execute_result",
          "data": {
            "text/plain": [
              "3161"
            ]
          },
          "metadata": {},
          "execution_count": 33
        }
      ],
      "source": [
        "# Total de palabras distintas\n",
        "\n",
        "len(set(text))"
      ]
    },
    {
      "cell_type": "code",
      "execution_count": 34,
      "metadata": {
        "id": "whWpz8J3mCQf",
        "outputId": "05a8d159-fcf6-4419-9fe5-d94a52ee8b3e",
        "colab": {
          "base_uri": "https://localhost:8080/"
        }
      },
      "outputs": [
        {
          "output_type": "execute_result",
          "data": {
            "text/plain": [
              "0.2514917654546901"
            ]
          },
          "metadata": {},
          "execution_count": 34
        }
      ],
      "source": [
        "# Cuantificando la riqueza léxica\n",
        "\n",
        "len(set(text)) / len(text)"
      ]
    },
    {
      "cell_type": "code",
      "source": [
        "nltk.download('stopwords')"
      ],
      "metadata": {
        "id": "Edpk10Jrpv-p",
        "outputId": "911fbec3-78d7-4e55-cd3b-80033f5d472f",
        "colab": {
          "base_uri": "https://localhost:8080/"
        }
      },
      "execution_count": 36,
      "outputs": [
        {
          "output_type": "stream",
          "name": "stderr",
          "text": [
            "[nltk_data] Downloading package stopwords to /root/nltk_data...\n",
            "[nltk_data]   Unzipping corpora/stopwords.zip.\n"
          ]
        },
        {
          "output_type": "execute_result",
          "data": {
            "text/plain": [
              "True"
            ]
          },
          "metadata": {},
          "execution_count": 36
        }
      ]
    },
    {
      "cell_type": "code",
      "execution_count": 44,
      "metadata": {
        "id": "iSGV3HCYmCQg",
        "outputId": "0b111b98-ad67-4dbd-e1ac-ca09a17d83bb",
        "colab": {
          "base_uri": "https://localhost:8080/"
        }
      },
      "outputs": [
        {
          "output_type": "stream",
          "name": "stdout",
          "text": [
            "new york; serial killer; stone barrington; los angeles; writing\n",
            "pseudonymously; nora roberts; roberts writing; eve dallas; sookie\n",
            "stackhouse; anita blake; dagger brotherhood; doc ford; jason bourne;\n",
            "lacey sherlock; mitch rapp; temperance brennan; forensic sculptor;\n",
            "alex cross; robert ludlums; san francisco\n"
          ]
        }
      ],
      "source": [
        "# Las colocaciones son pares de palabras (bigramas) que son inusualmente comunes en nuestro conjunto de datos\n",
        "text.collocations()"
      ]
    }
  ],
  "metadata": {
    "kernelspec": {
      "display_name": "Python (data_science)",
      "language": "python",
      "name": "data_science"
    },
    "language_info": {
      "codemirror_mode": {
        "name": "ipython",
        "version": 3
      },
      "file_extension": ".py",
      "mimetype": "text/x-python",
      "name": "python",
      "nbconvert_exporter": "python",
      "pygments_lexer": "ipython3",
      "version": "3.8.5"
    },
    "colab": {
      "provenance": [],
      "include_colab_link": true
    }
  },
  "nbformat": 4,
  "nbformat_minor": 0
}